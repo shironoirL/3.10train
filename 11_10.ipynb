{
  "nbformat": 4,
  "nbformat_minor": 0,
  "metadata": {
    "colab": {
      "provenance": [],
      "collapsed_sections": [],
      "authorship_tag": "ABX9TyOkydJW587y90QFMGvjEdKb",
      "include_colab_link": true
    },
    "kernelspec": {
      "name": "python3",
      "display_name": "Python 3"
    },
    "language_info": {
      "name": "python"
    }
  },
  "cells": [
    {
      "cell_type": "markdown",
      "metadata": {
        "id": "view-in-github",
        "colab_type": "text"
      },
      "source": [
        "<a href=\"https://colab.research.google.com/github/shironoirL/3.10train/blob/main/11_10.ipynb\" target=\"_parent\"><img src=\"https://colab.research.google.com/assets/colab-badge.svg\" alt=\"Open In Colab\"/></a>"
      ]
    },
    {
      "cell_type": "markdown",
      "source": [
        "# **Упражнение 110. Порядок сортировки**\n",
        "Напишите программу, которая будет запрашивать у пользователя цело-\n",
        "численные значения и сохранять их в виде списка. Индикатором оконча-\n",
        "ния ввода значений должен служить ноль. Затем программа должна вы-\n",
        "вести на экран все введенные пользователем числа (кроме нуля) в порядке\n",
        "возрастания – по одному значению в строке. Используйте для сортировки\n",
        "либо метод sort, либо функцию sorted"
      ],
      "metadata": {
        "id": "Cx4rJGw-zL1X"
      }
    },
    {
      "cell_type": "code",
      "source": [
        "def sortfunc():\n",
        "  number = int(input('vvedite chislo, 0 dlya vihoda'))\n",
        "  arr = []\n",
        "  while number != 0:\n",
        "   arr.append(number)\n",
        "   number = int(input('vvedite chislo, 0 dlya vihoda'))\n",
        "  return sorted(arr)\n",
        "  "
      ],
      "metadata": {
        "id": "ShiSOSlgzRZ_"
      },
      "execution_count": 52,
      "outputs": []
    },
    {
      "cell_type": "code",
      "source": [
        "sortfunc()"
      ],
      "metadata": {
        "colab": {
          "base_uri": "https://localhost:8080/"
        },
        "id": "HvQ17dpAzRhL",
        "outputId": "1772fcd5-5036-4094-aba8-f19a93bf70ea"
      },
      "execution_count": 53,
      "outputs": [
        {
          "name": "stdout",
          "output_type": "stream",
          "text": [
            "vvedite chislo, 0 dlya vihoda2\n",
            "vvedite chislo, 0 dlya vihoda3\n",
            "vvedite chislo, 0 dlya vihoda1\n",
            "vvedite chislo, 0 dlya vihoda0\n"
          ]
        },
        {
          "output_type": "execute_result",
          "data": {
            "text/plain": [
              "[1, 2, 3]"
            ]
          },
          "metadata": {},
          "execution_count": 53
        }
      ]
    },
    {
      "cell_type": "markdown",
      "source": [
        "# **Упражнение 111. Обратный порядок**\n",
        "Напишите программу, которая, как и в предыдущем случае, будет за-\n",
        "прашивать у пользователя целые числа и сохранять их в виде списка.\n",
        "Индикатором окончания ввода значений также должен служить ноль. На\n",
        "этот раз необходимо вывести на экран введенные значения в порядке\n",
        "убывания."
      ],
      "metadata": {
        "id": "-0PKS7JyzRyT"
      }
    },
    {
      "cell_type": "code",
      "source": [
        "def reverseSort():\n",
        "  number = int(input('vvedite chislo, 0 dlya vihoda'))\n",
        "  arr = []\n",
        "  while number != 0:\n",
        "   arr.append(number)\n",
        "   number = int(input('vvedite chislo, 0 dlya vihoda'))\n",
        "  return sorted(arr, reverse=True)\n",
        "  \n"
      ],
      "metadata": {
        "id": "gScuMcnkzXnD"
      },
      "execution_count": 60,
      "outputs": []
    },
    {
      "cell_type": "code",
      "source": [
        "reverseSort()"
      ],
      "metadata": {
        "colab": {
          "base_uri": "https://localhost:8080/"
        },
        "id": "8kTSwYdTzXp3",
        "outputId": "0aaa50a6-0ce2-4c35-821d-ddbfb35b24f0"
      },
      "execution_count": 61,
      "outputs": [
        {
          "name": "stdout",
          "output_type": "stream",
          "text": [
            "vvedite chislo, 0 dlya vihoda4\n",
            "vvedite chislo, 0 dlya vihoda3\n",
            "vvedite chislo, 0 dlya vihoda1\n",
            "vvedite chislo, 0 dlya vihoda2\n",
            "vvedite chislo, 0 dlya vihoda0\n"
          ]
        },
        {
          "output_type": "execute_result",
          "data": {
            "text/plain": [
              "[4, 3, 2, 1]"
            ]
          },
          "metadata": {},
          "execution_count": 61
        }
      ]
    },
    {
      "cell_type": "markdown",
      "source": [
        "# **Упражнение 112. Удаляем выбросы**\n",
        "При анализе собранных по результатам научных экспериментов данных\n",
        "зачастую возникает необходимость избавиться от экстремальных зна-\n",
        "чений, прежде чем продолжать двигаться дальше. Напишите функцию,\n",
        "создающую копию списка с исключенными из него n наибольшими и наи-\n",
        "меньшими значениями и возвращающую ее в качестве результата. Поря-\n",
        "док следования элементов в измененном списке не обязательно должен\n",
        "в точности совпадать с источником.\n",
        "В основной программе должна быть продемонстрирована работа вашей\n",
        "функции. Для начала попросите пользователя ввести целые числа, затем\n",
        "соберите их в список и вызовите написанную вами ранее функцию. Вы-\n",
        "ведите на экран измененную версию списка вместе с оригинальной. Если\n",
        "пользователь введет менее четырех чисел, должно быть отображено соот-\n",
        "ветствующее сообщение об ошибке."
      ],
      "metadata": {
        "id": "nGxt4T8MzYAF"
      }
    },
    {
      "cell_type": "code",
      "source": [
        "def deleteOutliers(n):\n",
        "  number = int(input('vvedite chislo, 0 dlya vihoda'))\n",
        "  arr = []\n",
        "  while number != 0:\n",
        "   arr.append(number)\n",
        "   number = int(input('vvedite chislo, 0 dlya vihoda'))\n",
        "  print(arr)\n",
        "  print(arr[0+n:-n])\n",
        "\n"
      ],
      "metadata": {
        "id": "ZJgUupPrza9R"
      },
      "execution_count": 67,
      "outputs": []
    },
    {
      "cell_type": "code",
      "source": [
        "deleteOutliers(1)"
      ],
      "metadata": {
        "colab": {
          "base_uri": "https://localhost:8080/"
        },
        "id": "zH4ZBIp1za_x",
        "outputId": "11779622-4aed-4a29-8534-b712a19b54bb"
      },
      "execution_count": 68,
      "outputs": [
        {
          "output_type": "stream",
          "name": "stdout",
          "text": [
            "vvedite chislo, 0 dlya vihoda1\n",
            "vvedite chislo, 0 dlya vihoda2\n",
            "vvedite chislo, 0 dlya vihoda3\n",
            "vvedite chislo, 0 dlya vihoda4\n",
            "vvedite chislo, 0 dlya vihoda5\n",
            "vvedite chislo, 0 dlya vihoda6\n",
            "vvedite chislo, 0 dlya vihoda0\n",
            "[1, 2, 3, 4, 5, 6]\n",
            "[2, 3, 4, 5]\n"
          ]
        }
      ]
    },
    {
      "cell_type": "markdown",
      "source": [
        "# **Упражнение 113. Избавляемся от дубликатов**\n",
        "В данном упражнении вам предстоит разработать программу, в которой\n",
        "у пользователя будет запрошен список слов, пока он не оставит строку\n",
        "ввода пустой. После этого на экране должны быть показаны слова, введен-\n",
        "ные пользователем, но без повторов, – каждое по одному разу. При этом\n",
        "слова должны быть отображены в том же порядке, в каком их вводили\n",
        "с клавиатуры. Например, если пользователь на запрос программы введет\n",
        "следующий список слов:\n"
      ],
      "metadata": {
        "id": "CLwc5zW7zbU4"
      }
    },
    {
      "cell_type": "code",
      "source": [
        "def deleteduplicates():\n",
        "  st = str(input('vvedite slovo   '))\n",
        "  arr = []\n",
        "  while st != '':\n",
        "    arr.append(st)\n",
        "    st = str(input('vvedite slovo   '))\n",
        "  return set(arr)"
      ],
      "metadata": {
        "id": "47qlL3Cs9jPx"
      },
      "execution_count": 74,
      "outputs": []
    },
    {
      "cell_type": "code",
      "source": [
        "deleteduplicates()"
      ],
      "metadata": {
        "colab": {
          "base_uri": "https://localhost:8080/"
        },
        "id": "cm1a9ADn-Pg6",
        "outputId": "aff19a61-4c45-4e81-8102-cd1f66a4691d"
      },
      "execution_count": 77,
      "outputs": [
        {
          "name": "stdout",
          "output_type": "stream",
          "text": [
            "vvedite slovo   qwe\n",
            "vvedite slovo   qwe\n",
            "vvedite slovo   wer\n",
            "vvedite slovo   \n"
          ]
        },
        {
          "output_type": "execute_result",
          "data": {
            "text/plain": [
              "{'qwe', 'wer'}"
            ]
          },
          "metadata": {},
          "execution_count": 77
        }
      ]
    },
    {
      "cell_type": "markdown",
      "source": [
        "# **Упражнение 136. Поиск по значению**\n",
        "Напишите функцию с названием reverseLookup, которая будет осуществлять\n",
        "поиск всех ключей в словаре по заданному значению. Функция\n",
        "должна принимать в качестве параметров словарь и значение для поиска и возвращать список ключей (он может быть пустым) из этого словаря,\n",
        "соответствующих переданному значению.\n",
        "В основной программе продемонстрируйте работу функции путем соз-\n",
        "дания словаря и поиска в нем всех ключей по заданному значению. Убе-\n",
        "дитесь, что функция работает корректно при наличии нескольких ключей\n",
        "для искомого значения, одного ключа и их отсутствии. Ваша програм-\n",
        "ма должна запускаться только в том случае, если она не импортирована\n",
        "в виде модуля в другой файл."
      ],
      "metadata": {
        "id": "h8496vrjAeCr"
      }
    },
    {
      "cell_type": "code",
      "source": [
        "def reverseLookup(dict, value):\n",
        "  result = []\n",
        "  for key in dict:\n",
        "    if dict[key]==value:\n",
        "      result.append(key)\n",
        "  return result\n",
        "\n",
        "\n"
      ],
      "metadata": {
        "id": "vuxwpXv3AkKU"
      },
      "execution_count": 93,
      "outputs": []
    },
    {
      "cell_type": "code",
      "source": [
        "reverseLookup({1:1, 2:1, 3:1, 4:4}, 1)"
      ],
      "metadata": {
        "colab": {
          "base_uri": "https://localhost:8080/"
        },
        "id": "G0XOs5wOAlcm",
        "outputId": "4ad7e66a-6744-4d96-ce97-9bfefdc9c83c"
      },
      "execution_count": 94,
      "outputs": [
        {
          "output_type": "execute_result",
          "data": {
            "text/plain": [
              "[1, 2, 3]"
            ]
          },
          "metadata": {},
          "execution_count": 94
        }
      ]
    },
    {
      "cell_type": "markdown",
      "source": [
        "# **Упражнение 137. Две игральные кости**\n",
        "В данном упражнении мы будем симулировать 1000 выбрасываний\n",
        "игральных костей. Начнем с написания функции, выполняющей случай-\n",
        "ное выбрасывание двух обычных шестигранных костей. Эта функция не\n",
        "будет принимать входных параметров, а возвращать должна число, вы-\n",
        "павшее в сумме на двух костях.\n",
        "В основной программе реализуйте симуляцию тысячи выбрасываний\n",
        "костей. Программа должна хранить все результаты с частотой их выпаде-\n",
        "ния. После завершения процесса должна быть показана итоговая таблица\n",
        "с результатами, похожая на ту, что представлена в табл. 6.1. Выразите\n",
        "частоту выпадения каждого из чисел в процентах вместе с ожидаемым\n",
        "результатом согласно теории вероятностей."
      ],
      "metadata": {
        "id": "Ju-9gxJpAl22"
      }
    },
    {
      "cell_type": "code",
      "source": [
        "import random\n",
        "def dices():\n",
        "  return random.randint(1,6) + random.randint(1,6)\n",
        "chance = 1/36\n",
        "expect = {2: 2.78, 3: 5.56, 4: 8.33, 5: 11.11, 6: 13.89, 7: 16.67, 8: 13.89, 9: 11.11, 10: 8.33, 11: 5.56, 12: 2.78}\n",
        "counts = {2:0, 3:0, 4:0, 5:0, 6:0, 7:0, 8:0, 9:0, 10:0, 11:0, 12:0}\n",
        "for i in range(1000):\n",
        "  c = dices()\n",
        "  counts[c] +=1\n",
        "print('Dices,RealPercent,ExpectedPercent')\n",
        "for i in sorted(counts.keys()):\n",
        "  print(\"%4d %7.1f %10.1f\" % (i, counts[i] / 1000 * 100, expect[i]))\n",
        "\n",
        "\n"
      ],
      "metadata": {
        "colab": {
          "base_uri": "https://localhost:8080/"
        },
        "id": "HBRBPo7cAuGG",
        "outputId": "cff09d27-cd00-4cbd-833c-75d104213ac2"
      },
      "execution_count": 147,
      "outputs": [
        {
          "output_type": "stream",
          "name": "stdout",
          "text": [
            "Dices,RealPercent,ExpectedPercent\n",
            "   2     2.7        2.8\n",
            "   3     6.6        5.6\n",
            "   4     9.0        8.3\n",
            "   5    10.6       11.1\n",
            "   6    14.6       13.9\n",
            "   7    16.4       16.7\n",
            "   8    13.6       13.9\n",
            "   9    11.3       11.1\n",
            "  10     8.0        8.3\n",
            "  11     5.5        5.6\n",
            "  12     1.7        2.8\n"
          ]
        }
      ]
    },
    {
      "cell_type": "markdown",
      "source": [
        "# **Упражнение 138. Текстовые сообщения**\n",
        "Если помните, на старых мобильных телефонах текстовые сообщения на-\n",
        "бирались при помощи цифровых кнопок. При этом одна кнопка была ассоциирована сразу с несколькими буквами, а выбор зависел от количества\n",
        "нажатий на кнопку. Однократное нажатие приводило к появлению первой\n",
        "буквы в соответствующем этой кнопке списке, последующие нажатия ме-\n",
        "няли ее на следующую. Список символов, ассоциированных с цифровой\n",
        "панелью, приведен в табл. 6.2.\n",
        "![table.jpg](data:image/jpeg;base64,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)(\n",
        "  \n",
        ")\n"
      ],
      "metadata": {
        "id": "xNWCnGBfAu3T"
      }
    },
    {
      "cell_type": "code",
      "source": [
        "# '#' for swapping cases\n",
        "# not correct mapping in this task\n",
        "def send_message(message):\n",
        "    key = {\n",
        "        '.': '1',\n",
        "        ',': '11',\n",
        "        '?': '111',\n",
        "        '!': '1111',\n",
        "        'a': '2',\n",
        "        'b': '22',\n",
        "        'c': '222',\n",
        "        'd': '3',\n",
        "        \"e\": '33',\n",
        "        \"f\": \"333\",\n",
        "        \"g\": '4',\n",
        "        \"h\": '44',\n",
        "        \"i\": '444',\n",
        "        \"j\": '5',\n",
        "        \"k\": '55',\n",
        "        \"l\": '555',\n",
        "        \"m\": '6',\n",
        "        \"n\": '66',\n",
        "        \"o\": \"666\",\n",
        "        \"p\": \"7\",\n",
        "        \"q\": '77',\n",
        "        \"r\": \"777\",\n",
        "        \"s\": \"7777\",\n",
        "        \"t\": \"8\",\n",
        "        \"u\": \"88\",\n",
        "        \"v\": \"888\",\n",
        "        \"w\": \"9\",\n",
        "        \"x\": \"99\",\n",
        "        \"y\": \"999\",\n",
        "        \"z\": \"9999\",\n",
        "        \"\\'\": \"*\",\n",
        "        \"-\": \"**\",\n",
        "        \"+\": \"***\",\n",
        "        \"=\": \"****\",\n",
        "        \" \": \"0\",\n",
        "        \"*\": \"*-\",\n",
        "        \"#\": \"#-\",\n",
        "        }\n",
        "\n",
        "    result = \"\"\n",
        "    case = False\n",
        "    last = \"new\"\n",
        "\n",
        "    for i in message:\n",
        "\n",
        "        if (i.islower() and case == True) or (i.isupper() and case != True):\n",
        "            result += \"#\"\n",
        "            case = not case\n",
        "            last = \"#\"\n",
        "\n",
        "\n",
        "        result += key[i.lower()]\n",
        "        last = key[i.lower()]\n",
        "    return result"
      ],
      "metadata": {
        "id": "VCgAhSAdAzUp"
      },
      "execution_count": 202,
      "outputs": []
    },
    {
      "cell_type": "code",
      "source": [
        "send_message('hello world!')"
      ],
      "metadata": {
        "colab": {
          "base_uri": "https://localhost:8080/",
          "height": 35
        },
        "id": "Sum5eUuiUSik",
        "outputId": "f124b0dd-89bc-4b4d-e662-f08bd5e11d44"
      },
      "execution_count": 195,
      "outputs": [
        {
          "output_type": "execute_result",
          "data": {
            "text/plain": [
              "'44335555556660966677755531111'"
            ],
            "application/vnd.google.colaboratory.intrinsic+json": {
              "type": "string"
            }
          },
          "metadata": {},
          "execution_count": 195
        }
      ]
    },
    {
      "cell_type": "code",
      "source": [],
      "metadata": {
        "id": "U0zfIVZrUW8n"
      },
      "execution_count": null,
      "outputs": []
    }
  ]
}